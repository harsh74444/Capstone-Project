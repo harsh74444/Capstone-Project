{
 "cells": [
  {
   "cell_type": "markdown",
   "metadata": {},
   "source": [
    "# Where to Open an Indian Restaurant in Mumbai, India"
   ]
  },
  {
   "cell_type": "markdown",
   "metadata": {},
   "source": [
    "## Introduction\n",
    "\n",
    "    Selecting the right area to open a new restaurant is very important for its viability. Opening a restaurant in a not so favourable area not only affects its viability but also costs financially to the owner. In a metropolitan city like Mumbai, location is of utmost importance when it comes to restaurants. People in Mumbai prefers to live with people nearby of same ethnicity and hence prefers to visit restaurants serving such type of food."
   ]
  },
  {
   "cell_type": "markdown",
   "metadata": {},
   "source": [
    "## Business Problem\n",
    "\n",
    "    The objective of this study is to cluster similar type of restaurants, and hence allowing a entrepreneur to make a better decision for the selection of locality and type of restaurant."
   ]
  },
  {
   "cell_type": "markdown",
   "metadata": {},
   "source": [
    "## Data\n",
    "\n",
    "    To solve this problem, following data would be required:\n",
    "    \n",
    "    # List of neighborhoods in Mumbai, India. This defines the scope of this project.\n",
    "    \n",
    "    # Latitude and Longitude of the neighborhoods to plot the neighborhoods on map and get the venues nearby.\n",
    "    \n",
    "    # Venue data to form clusters and make recommendations."
   ]
  },
  {
   "cell_type": "code",
   "execution_count": null,
   "metadata": {},
   "outputs": [],
   "source": []
  }
 ],
 "metadata": {
  "kernelspec": {
   "display_name": "Python 3",
   "language": "python",
   "name": "python3"
  },
  "language_info": {
   "codemirror_mode": {
    "name": "ipython",
    "version": 3
   },
   "file_extension": ".py",
   "mimetype": "text/x-python",
   "name": "python",
   "nbconvert_exporter": "python",
   "pygments_lexer": "ipython3",
   "version": "3.7.4"
  }
 },
 "nbformat": 4,
 "nbformat_minor": 2
}
